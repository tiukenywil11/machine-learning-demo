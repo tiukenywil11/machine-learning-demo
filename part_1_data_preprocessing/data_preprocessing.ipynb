{
  "cells": [
    {
      "cell_type": "markdown",
      "metadata": {
        "id": "TWxSca4p7naW"
      },
      "source": [
        "# Data Preprocessing"
      ]
    },
    {
      "cell_type": "markdown",
      "metadata": {
        "id": "LNcsX3ib7xEe"
      },
      "source": [
        "Importing the libraries"
      ]
    },
    {
      "cell_type": "code",
      "execution_count": 7,
      "metadata": {
        "id": "4zftUrMt736P"
      },
      "outputs": [],
      "source": [
        "# Helps Performs mathemataical equations\n",
        "import numpy as np\n",
        "# Helps us plot charts\n",
        "import matplotlib.pyplot as plt\n",
        "# Helps import datasets\n",
        "import pandas as pd"
      ]
    },
    {
      "cell_type": "markdown",
      "metadata": {
        "id": "j_CQFN46picN"
      },
      "source": [
        "Importing the dataset"
      ]
    },
    {
      "cell_type": "code",
      "execution_count": 10,
      "metadata": {
        "id": "8kHFvZUzpnlN"
      },
      "outputs": [],
      "source": [
        "dataset = pd.read_csv('Data.csv')\n",
        "\n",
        "# Get all rows, and all column excluding the last one\n",
        "x = dataset.iloc[:, :-1].values\n",
        "# Get all rows, and only the last column\n",
        "y = dataset.iloc[:, -1].values"
      ]
    },
    {
      "cell_type": "code",
      "execution_count": null,
      "metadata": {
        "colab": {
          "base_uri": "https://localhost:8080/"
        },
        "id": "F3HrxeLSs7ph",
        "outputId": "9885e02e-5317-46fa-b9f3-46ba8bab681b"
      },
      "outputs": [
        {
          "name": "stdout",
          "output_type": "stream",
          "text": [
            "[['France' 44.0 72000.0]\n",
            " ['Spain' 27.0 48000.0]\n",
            " ['Germany' 30.0 54000.0]\n",
            " ['Spain' 38.0 61000.0]\n",
            " ['Germany' 40.0 nan]\n",
            " ['France' 35.0 58000.0]\n",
            " ['Spain' nan 52000.0]\n",
            " ['France' 48.0 79000.0]\n",
            " ['Germany' 50.0 83000.0]\n",
            " ['France' 37.0 67000.0]]\n"
          ]
        }
      ],
      "source": [
        "print(x)"
      ]
    },
    {
      "cell_type": "code",
      "execution_count": null,
      "metadata": {
        "colab": {
          "base_uri": "https://localhost:8080/"
        },
        "id": "QZxpZIgxrnRP",
        "outputId": "b429ef55-1403-4202-b92d-bcb1b847c1f1"
      },
      "outputs": [
        {
          "name": "stdout",
          "output_type": "stream",
          "text": [
            "['No' 'Yes' 'No' 'No' 'Yes' 'Yes' 'No' 'Yes' 'No' 'Yes']\n"
          ]
        }
      ],
      "source": [
        "print(y)"
      ]
    },
    {
      "cell_type": "markdown",
      "metadata": {
        "id": "-lW-Msc2nHiT"
      },
      "source": [
        "# Taking care of missing data"
      ]
    },
    {
      "cell_type": "code",
      "execution_count": null,
      "metadata": {
        "id": "OF13t2vAnXx0"
      },
      "outputs": [],
      "source": [
        "# replace missing data by the average of all salaries\n",
        "\n",
        "# Helps with predictive analytics\n",
        "from sklearn.impute import SimpleImputer\n",
        "# Imputer arguments: missing values, replace with strategy 'mean'\n",
        "imputer = SimpleImputer(missing_values=np.nan, strategy='mean')\n",
        "\n",
        "# Get missing entries count \n",
        "# Reference: https://datatofish.com/count-nan-pandas-dataframe/\n",
        "df = pd.DataFrame(dataset)\n",
        "missing_entries_count = df.isna().sum().sum()\n",
        "\n",
        "# Use 'fit' method will connect the imputer to them matrix of features. Range from 1-3 for age, and salary.\n",
        "imputer.fit(x[:, 1:3])\n",
        "# Use 'transform' method to apply the imputer, replacing missing data with the mean.\n",
        "# Assign it to x[:, 1:3] to replace the current columns.\n",
        "x[:, 1:3] = imputer.transform(x[:, 1:3])"
      ]
    },
    {
      "cell_type": "code",
      "execution_count": 25,
      "metadata": {
        "colab": {
          "base_uri": "https://localhost:8080/"
        },
        "id": "xlM30rLUvJJE",
        "outputId": "ecd11a04-7bd1-4c6c-dd52-ffe74f4d7251"
      },
      "outputs": [
        {
          "name": "stdout",
          "output_type": "stream",
          "text": [
            "2\n"
          ]
        }
      ],
      "source": [
        "print(missing_entries_count)"
      ]
    },
    {
      "cell_type": "code",
      "execution_count": 12,
      "metadata": {
        "colab": {
          "base_uri": "https://localhost:8080/"
        },
        "id": "c7QINHDQqm5M",
        "outputId": "9c20501a-4a3f-407b-cace-a02e5a3ea824"
      },
      "outputs": [
        {
          "name": "stdout",
          "output_type": "stream",
          "text": [
            "[['France' 44.0 72000.0]\n",
            " ['Spain' 27.0 48000.0]\n",
            " ['Germany' 30.0 54000.0]\n",
            " ['Spain' 38.0 61000.0]\n",
            " ['Germany' 40.0 63777.77777777778]\n",
            " ['France' 35.0 58000.0]\n",
            " ['Spain' 38.77777777777778 52000.0]\n",
            " ['France' 48.0 79000.0]\n",
            " ['Germany' 50.0 83000.0]\n",
            " ['France' 37.0 67000.0]]\n"
          ]
        }
      ],
      "source": [
        "print(x)"
      ]
    }
  ],
  "metadata": {
    "colab": {
      "provenance": []
    },
    "kernelspec": {
      "display_name": "Python 3",
      "name": "python3"
    },
    "language_info": {
      "name": "python"
    }
  },
  "nbformat": 4,
  "nbformat_minor": 0
}

{
  "nbformat": 4,
  "nbformat_minor": 0,
  "metadata": {
    "colab": {
      "provenance": []
    },
    "kernelspec": {
      "name": "python3",
      "display_name": "Python 3"
    },
    "language_info": {
      "name": "python"
    }
  },
  "cells": [
    {
      "cell_type": "markdown",
      "source": [
        "# Data Preprocessing"
      ],
      "metadata": {
        "id": "TWxSca4p7naW"
      }
    },
    {
      "cell_type": "markdown",
      "source": [
        "Importing the libraries"
      ],
      "metadata": {
        "id": "LNcsX3ib7xEe"
      }
    },
    {
      "cell_type": "code",
      "source": [
        "# Helps Performs mathemataical equations\n",
        "import numpy as np\n",
        "# Helps us plot charts\n",
        "import matplotlib.pyplot as plt\n",
        "# Helps import datasets\n",
        "import pandas as pd"
      ],
      "metadata": {
        "id": "4zftUrMt736P"
      },
      "execution_count": 7,
      "outputs": []
    },
    {
      "cell_type": "markdown",
      "source": [
        "Importing the dataset"
      ],
      "metadata": {
        "id": "j_CQFN46picN"
      }
    },
    {
      "cell_type": "code",
      "source": [
        "dataset = pd.read_csv('Data.csv')\n",
        "\n",
        "# Get all rows, and all column excluding the last one\n",
        "x = dataset.iloc[:, :-1].values\n",
        "# Get all rows, and only the last column\n",
        "y = dataset.iloc[:, -1].values"
      ],
      "metadata": {
        "id": "8kHFvZUzpnlN"
      },
      "execution_count": 10,
      "outputs": []
    },
    {
      "cell_type": "code",
      "source": [
        "print(x)"
      ],
      "metadata": {
        "colab": {
          "base_uri": "https://localhost:8080/"
        },
        "id": "F3HrxeLSs7ph",
        "outputId": "9885e02e-5317-46fa-b9f3-46ba8bab681b"
      },
      "execution_count": null,
      "outputs": [
        {
          "output_type": "stream",
          "name": "stdout",
          "text": [
            "[['France' 44.0 72000.0]\n",
            " ['Spain' 27.0 48000.0]\n",
            " ['Germany' 30.0 54000.0]\n",
            " ['Spain' 38.0 61000.0]\n",
            " ['Germany' 40.0 nan]\n",
            " ['France' 35.0 58000.0]\n",
            " ['Spain' nan 52000.0]\n",
            " ['France' 48.0 79000.0]\n",
            " ['Germany' 50.0 83000.0]\n",
            " ['France' 37.0 67000.0]]\n"
          ]
        }
      ]
    },
    {
      "cell_type": "code",
      "source": [
        "print(y)"
      ],
      "metadata": {
        "colab": {
          "base_uri": "https://localhost:8080/"
        },
        "id": "QZxpZIgxrnRP",
        "outputId": "b429ef55-1403-4202-b92d-bcb1b847c1f1"
      },
      "execution_count": null,
      "outputs": [
        {
          "output_type": "stream",
          "name": "stdout",
          "text": [
            "['No' 'Yes' 'No' 'No' 'Yes' 'Yes' 'No' 'Yes' 'No' 'Yes']\n"
          ]
        }
      ]
    },
    {
      "cell_type": "markdown",
      "source": [
        "# Taking care of missing data"
      ],
      "metadata": {
        "id": "-lW-Msc2nHiT"
      }
    },
    {
      "cell_type": "code",
      "source": [
        "# replace missing data by the average of all salaries\n",
        "\n",
        "# Helps with predictive analytics\n",
        "from sklearn.impute import SimpleImputer\n",
        "# Imputer arguments: missing values, replace with strategy 'mean'\n",
        "imputer = SimpleImputer(missing_values=np.nan, strategy='mean')\n",
        "# Use 'fit' method will connect the imputer to them matrix of features. Range from 1-3 for age, and salary.\n",
        "imputer.fit(x[:, 1:3])\n",
        "# Use 'transform' method to apply the imputer, replacing missing data with the mean.\n",
        "# Assign it to x[:, 1:3] to replace the current columns.\n",
        "x[:, 1:3] = imputer.transform(x[:, 1:3])"
      ],
      "metadata": {
        "id": "OF13t2vAnXx0"
      },
      "execution_count": 11,
      "outputs": []
    },
    {
      "cell_type": "code",
      "source": [
        "print(x)"
      ],
      "metadata": {
        "colab": {
          "base_uri": "https://localhost:8080/"
        },
        "id": "c7QINHDQqm5M",
        "outputId": "9c20501a-4a3f-407b-cace-a02e5a3ea824"
      },
      "execution_count": 12,
      "outputs": [
        {
          "output_type": "stream",
          "name": "stdout",
          "text": [
            "[['France' 44.0 72000.0]\n",
            " ['Spain' 27.0 48000.0]\n",
            " ['Germany' 30.0 54000.0]\n",
            " ['Spain' 38.0 61000.0]\n",
            " ['Germany' 40.0 63777.77777777778]\n",
            " ['France' 35.0 58000.0]\n",
            " ['Spain' 38.77777777777778 52000.0]\n",
            " ['France' 48.0 79000.0]\n",
            " ['Germany' 50.0 83000.0]\n",
            " ['France' 37.0 67000.0]]\n"
          ]
        }
      ]
    }
  ]
}